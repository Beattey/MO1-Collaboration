{
 "cells": [
  {
   "cell_type": "code",
   "execution_count": 19,
   "id": "fd8a52f4-854e-4c22-8c6c-fdbf02958daf",
   "metadata": {},
   "outputs": [
    {
     "name": "stdout",
     "output_type": "stream",
     "text": [
      "MOZZARELLO, cinderella, salonella, \n",
      "MOZZARELLO, Cinderella, salonella, \n",
      "MOZZARELLO, Cinderella, \n"
     ]
    }
   ],
   "source": [
    "########################################################################################################\n",
    "####                     M03 Programming Assignment - Lists and Functions                           ####\n",
    "####                           Things to Do  7.4, 7.5, 7.6 & 7.7                                    ####\n",
    "####                           Submitted by Alan Beattey                                            #### \n",
    "########################################################################################################\n",
    "\n",
    "things=[['chessy','mozzarello'],['person','cinderella'],['disease','salonella']]\n",
    "flag = int(0)\n",
    "while flag < len(things):\n",
    "    \n",
    "        # Things TO Do 7.6 UPPER case things that are chessy  \n",
    "    if things[flag][0] == 'chessy':\n",
    "        things[flag][1] = things[flag][1].upper()\n",
    "        \n",
    "         # Things TO Do 7.5 Capitalizes things that refer to a person    \n",
    "    elif things[flag][0] == 'person':\n",
    "        things[flag][1] = things[flag][1].capitalize()\n",
    "        \n",
    "         # Things TO Do 7.7delete the disease element from things\n",
    "    elif things[flag][0] == 'disease':\n",
    "        del things[flag]\n",
    "\n",
    "    pflag = int(0)\n",
    "    while pflag < len(things):\n",
    "        print(things[pflag][1], end=', ')\n",
    "        pflag = pflag+1\n",
    "    print('')\n",
    "    \n",
    "    #print('interation =',flag)         \n",
    "    flag = flag+1"
   ]
  },
  {
   "cell_type": "code",
   "execution_count": 1,
   "id": "2ed27466-a482-4582-91c3-22f7c53433ff",
   "metadata": {},
   "outputs": [
    {
     "name": "stdout",
     "output_type": "stream",
     "text": [
      "list has been created\n",
      "the function has been created\n",
      "The function good will now be run\n"
     ]
    },
    {
     "data": {
      "text/plain": [
       "['Harry', 'Ron', 'Hermione']"
      ]
     },
     "execution_count": 1,
     "metadata": {},
     "output_type": "execute_result"
    }
   ],
   "source": [
    "########################################################################################################\n",
    "####                     M03 Programming Assignment - Lists and Functions                           ####\n",
    "####                              Things to Do 9.1                                                  ####\n",
    "####                           Submitted by Alan Beattey                                            #### \n",
    "########################################################################################################\n",
    "\n",
    "lista = ['Harry','Ron','Hermione']\n",
    "print('list has been created')\n",
    "def good():\n",
    "    return lista\n",
    "print('the function has been created')\n",
    "print('The function good will now be run')\n",
    "good()"
   ]
  },
  {
   "cell_type": "code",
   "execution_count": 4,
   "id": "8d15fe19-7d94-4375-98ab-a7b9b7db0f87",
   "metadata": {},
   "outputs": [
    {
     "name": "stdout",
     "output_type": "stream",
     "text": [
      "5\n"
     ]
    }
   ],
   "source": [
    "\n",
    "########################################################################################################\n",
    "####                     M03 Programming Assignment - Lists and Functions                           ####\n",
    "####                              Things to Do 9.2                                                  ####\n",
    "####                           Submitted by Alan Beattey                                            #### \n",
    "########################################################################################################def get_odds(first=0, last=10, step=1):\n",
    "     number = first\n",
    "     while number < last:\n",
    "         yield number\n",
    "         number += step\n",
    "\n",
    "odds = get_odds(1,10,2)\n",
    "\n",
    "count = 1\n",
    "for x in odds:\n",
    "    if count == 3:\n",
    "        print(x) \n",
    "    count += 1"
   ]
  }
 ],
 "metadata": {
  "kernelspec": {
   "display_name": "Python 3 (ipykernel)",
   "language": "python",
   "name": "python3"
  },
  "language_info": {
   "codemirror_mode": {
    "name": "ipython",
    "version": 3
   },
   "file_extension": ".py",
   "mimetype": "text/x-python",
   "name": "python",
   "nbconvert_exporter": "python",
   "pygments_lexer": "ipython3",
   "version": "3.11.7"
  }
 },
 "nbformat": 4,
 "nbformat_minor": 5
}
